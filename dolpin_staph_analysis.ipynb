{
 "cells": [
  {
   "cell_type": "markdown",
   "metadata": {},
   "source": [
    "### Dolphin Staph Isolate Contaminant Split\n",
    "### Author: Shawn Higdon\n",
    "### Date: January 10, 2019\n",
    "\n",
    "> This analysis is for the analysis of a bacterial isolate recovered from the blow hole of a Dolphin specimen under investigation by the Weimer Lab at UC Davis. The isolate in question was previously determined to be a co-culture of E. coli and S. aureus. The goal for this analysis will be to determine taxa present within the isolate, followed by spliting of fastq reads that comprise the genomes within each species comprising the isolate.\n",
    "\n",
    "#### Two workflows will be attempted to separate the genomes within the co-cultured genome sequence:\n",
    "\n",
    "1. Read Splitting using BBsplit and associated reference genomes\n",
    "2. Fastq read splitting following metagenome assembly and subsequent Genome binning with Metabat\n",
    "\n",
    "**Pre-Analysis Step**\n",
    "\n",
    "1. Quality trim reads using trimmomatic\n",
    "\n",
    "**Workflow 1 Analysis Steps**\n",
    "\n",
    "1. Generate minhash sketch using __Sourmash__\n",
    "2. Classify minhash sketch using __Sourmash__\n",
    "3. __Download__ relevant reference genomes form __NCBI__\n",
    "4. Isolate fastq reads of organism 1 by maping fastq reads to reference genome 1 using __BBSplit__\n",
    "5. Isolate fastq reads of organism 2 by maping fastq reads to reference genome 2 using __BBSplit__\n",
    "6. Assembly individual genomes using __Megahit__\n",
    "7. Generate Minhash Sketch of separated microbial genomes using __Sourmash__\n",
    "8. Classify separated microbial genomes using __Sourmash__\n",
    "9. Compute assembly statistics using __Quast__ and __BBtools__\n",
    "\n",
    "**Workflow 2 Analysis Steps**\n",
    "\n",
    "1. Assemble metagenome using __Megahit__\n",
    "2. Map reads to assembly using __BWA__\n",
    "3. Bin metagenome using __Metabat__\n",
    "4. Generate split fastq reads for each bin from original raw reads using __Pysam__\n",
    "5. Assemble split reads using __Megahit__\n",
    "6. Generate Minhash Sketches for subsequent split read assemblies using __Megahit__\n",
    "7. Classify Minhash Sketches for assemblies using __Sourmash__\n",
    "8. Compute assembly statistics using __Quast__ and __BBtools__\n",
    "\n",
    "\n",
    "> Sourmash version 2.0.0a11\n"
   ]
  },
  {
   "cell_type": "code",
   "execution_count": 1,
   "metadata": {},
   "outputs": [
    {
     "name": "stdout",
     "output_type": "stream",
     "text": [
      "Module bio/1.0 loaded \u001b[m\n",
      "\u001b[K\u001b[?1l\u001b>"
     ]
    }
   ],
   "source": [
    "module load bio"
   ]
  },
  {
   "cell_type": "markdown",
   "metadata": {},
   "source": [
    "#### Pre-Analysis\n",
    "\n",
    "> Quality Trim the reads"
   ]
  },
  {
   "cell_type": "code",
   "execution_count": 10,
   "metadata": {},
   "outputs": [
    {
     "name": "stdout",
     "output_type": "stream",
     "text": [
      "/group/weimergrp/smh/Dolphin_staph\n",
      "\u001b[0m\u001b[01;31mBCW_7425_R1.fastq.gz\u001b[0m  \u001b[01;31mBCW_7425_R2.fastq.gz\u001b[0m  Untitled.ipynb\n"
     ]
    }
   ],
   "source": [
    "pwd && ls"
   ]
  },
  {
   "cell_type": "code",
   "execution_count": 16,
   "metadata": {},
   "outputs": [
    {
     "name": "stdout",
     "output_type": "stream",
     "text": [
      "BCW_7425_R1.fastq.gz\n",
      "BCW_7425_R2.fastq.gz\n",
      "bname is BCW_7425\n",
      "TrimmomaticPE: Started with arguments:\n",
      " -threads 24 BCW_7425_R1.fastq.gz BCW_7425_R2.fastq.gz BCW_7425.R1.trim.fq BCW_7425.orphan_R1.fq BCW_7425.R2.trim.fq BCW_7425.orphan_R2.fq ILLUMINACLIP:TruSeq3-PE-2.fa:2:40:15:8:TRUE LEADING:2 TRAILING:2 SLIDINGWINDOW:4:15 MINLEN:50\n",
      "Using PrefixPair: 'TACACTCTTTCCCTACACGACGCTCTTCCGATCT' and 'GTGACTGGAGTTCAGACGTGTGCTCTTCCGATCT'\n",
      "Using Long Clipping Sequence: 'AGATCGGAAGAGCGTCGTGTAGGGAAAGAGTGTA'\n",
      "Using Long Clipping Sequence: 'AGATCGGAAGAGCACACGTCTGAACTCCAGTCAC'\n",
      "Using Long Clipping Sequence: 'GTGACTGGAGTTCAGACGTGTGCTCTTCCGATCT'\n",
      "Using Long Clipping Sequence: 'TACACTCTTTCCCTACACGACGCTCTTCCGATCT'\n",
      "ILLUMINACLIP: Using 1 prefix pairs, 4 forward/reverse sequences, 0 forward only sequences, 0 reverse only sequences\n",
      "Quality encoding detected as phred33\n",
      "Input Read Pairs: 1076753 Both Surviving: 1057182 (98.18%) Forward Only Surviving: 14569 (1.35%) Reverse Only Surviving: 2389 (0.22%) Dropped: 2613 (0.24%)\n",
      "TrimmomaticPE: Completed successfully\n"
     ]
    }
   ],
   "source": [
    "for R1 in *R1.fastq.gz; do echo $R1; R2=`echo $R1 | sed 's/_R1/_R2/'`; bname=`echo $R1 | sed 's/_R1.\\+//'`; bname=`basename $bname`; echo $R2; echo \"bname is $bname\"; trimmomatic PE -threads 24 $R1 $R2 ${bname}.R1.trim.fq ${bname}.orphan_R1.fq ${bname}.R2.trim.fq ${bname}.orphan_R2.fq ILLUMINACLIP:TruSeq3-PE-2.fa:2:40:15:8:TRUE LEADING:2 TRAILING:2 SLIDINGWINDOW:4:15 MINLEN:50; done"
   ]
  },
  {
   "cell_type": "code",
   "execution_count": 17,
   "metadata": {},
   "outputs": [
    {
     "name": "stdout",
     "output_type": "stream",
     "text": [
      "BCW_7425.orphan_R1.fq  BCW_7425.R1.trim.fq   \u001b[0m\u001b[01;36mTruSeq3-PE-2.fa\u001b[0m\n",
      "BCW_7425.orphan_R2.fq  \u001b[01;31mBCW_7425_R2.fastq.gz\u001b[0m  Untitled.ipynb\n",
      "\u001b[01;31mBCW_7425_R1.fastq.gz\u001b[0m   BCW_7425.R2.trim.fq\n"
     ]
    }
   ],
   "source": [
    "ls"
   ]
  },
  {
   "cell_type": "markdown",
   "metadata": {},
   "source": [
    "### Workflow 2 \n",
    "\n",
    "> Beginning analysis with Workflow 2\n",
    "\n",
    "#### MEGAHIT Assembly"
   ]
  },
  {
   "cell_type": "code",
   "execution_count": 22,
   "metadata": {},
   "outputs": [
    {
     "name": "stdout",
     "output_type": "stream",
     "text": [
      "62.0Gb memory in total.\n",
      "Using: 56.592Gb.\n",
      "MEGAHIT v1.1.1\n",
      "--- [Thu Jan 10 14:39:38 2019] Start assembly. Number of CPU threads 24 ---\n",
      "--- [Thu Jan 10 14:39:38 2019] Available memory: 67516657664, used: 60764991897\n",
      "--- [Thu Jan 10 14:39:38 2019] Converting reads to binaries ---\n",
      "    [read_lib_functions-inl.h  : 209]     Lib 0 (BCW_7425.R1.trim.fq,BCW_7425.R2.trim.fq): pe, 2114364 reads, 151 max length\n",
      "    [utils.h                   : 126]     Real: 3.8486\tuser: 3.3635\tsys: 0.4799\tmaxrss: 164808\n",
      "--- [Thu Jan 10 14:39:43 2019] k list: 21,29,39,59,79,99,119,141 ---\n",
      "--- [Thu Jan 10 14:39:43 2019] Extracting solid (k+1)-mers for k = 21 ---\n",
      "--- [Thu Jan 10 14:39:54 2019] Building graph for k = 21 ---\n",
      "--- [Thu Jan 10 14:39:57 2019] Assembling contigs from SdBG for k = 21 ---\n",
      "--- [Thu Jan 10 14:40:00 2019] Local assembling k = 21 ---\n",
      "--- [Thu Jan 10 14:40:06 2019] Extracting iterative edges from k = 21 to 29 ---\n",
      "--- [Thu Jan 10 14:40:11 2019] Building graph for k = 29 ---\n",
      "--- [Thu Jan 10 14:40:13 2019] Assembling contigs from SdBG for k = 29 ---\n",
      "--- [Thu Jan 10 14:40:17 2019] Local assembling k = 29 ---\n",
      "--- [Thu Jan 10 14:40:23 2019] Extracting iterative edges from k = 29 to 39 ---\n",
      "--- [Thu Jan 10 14:40:28 2019] Building graph for k = 39 ---\n",
      "--- [Thu Jan 10 14:40:30 2019] Assembling contigs from SdBG for k = 39 ---\n",
      "--- [Thu Jan 10 14:40:34 2019] Local assembling k = 39 ---\n",
      "--- [Thu Jan 10 14:40:40 2019] Extracting iterative edges from k = 39 to 59 ---\n",
      "--- [Thu Jan 10 14:40:45 2019] Building graph for k = 59 ---\n",
      "--- [Thu Jan 10 14:40:48 2019] Assembling contigs from SdBG for k = 59 ---\n",
      "--- [Thu Jan 10 14:40:52 2019] Local assembling k = 59 ---\n",
      "--- [Thu Jan 10 14:40:58 2019] Extracting iterative edges from k = 59 to 79 ---\n",
      "--- [Thu Jan 10 14:41:02 2019] Building graph for k = 79 ---\n",
      "--- [Thu Jan 10 14:41:05 2019] Assembling contigs from SdBG for k = 79 ---\n",
      "--- [Thu Jan 10 14:41:09 2019] Local assembling k = 79 ---\n",
      "--- [Thu Jan 10 14:41:15 2019] Extracting iterative edges from k = 79 to 99 ---\n",
      "--- [Thu Jan 10 14:41:18 2019] Building graph for k = 99 ---\n",
      "--- [Thu Jan 10 14:41:21 2019] Assembling contigs from SdBG for k = 99 ---\n",
      "--- [Thu Jan 10 14:41:25 2019] Local assembling k = 99 ---\n",
      "--- [Thu Jan 10 14:41:31 2019] Extracting iterative edges from k = 99 to 119 ---\n",
      "--- [Thu Jan 10 14:41:33 2019] Building graph for k = 119 ---\n",
      "--- [Thu Jan 10 14:41:36 2019] Assembling contigs from SdBG for k = 119 ---\n",
      "--- [Thu Jan 10 14:41:41 2019] Local assembling k = 119 ---\n",
      "--- [Thu Jan 10 14:41:46 2019] Extracting iterative edges from k = 119 to 141 ---\n",
      "--- [Thu Jan 10 14:41:48 2019] Building graph for k = 141 ---\n",
      "--- [Thu Jan 10 14:41:50 2019] Assembling contigs from SdBG for k = 141 ---\n",
      "--- [Thu Jan 10 14:41:54 2019] Merging to output final contigs ---\n",
      "--- [STAT] 241 contigs, total 7964902 bp, min 200 bp, max 812771 bp, avg 33049 bp, N50 148845 bp\n",
      "--- [Thu Jan 10 14:41:54 2019] ALL DONE. Time elapsed: 136.102330 seconds ---\n"
     ]
    }
   ],
   "source": [
    "megahit -1 ${bname}.R1.trim.fq -2 ${bname}.R2.trim.fq -o workflow2/megahit -t 24"
   ]
  },
  {
   "cell_type": "code",
   "execution_count": 28,
   "metadata": {},
   "outputs": [
    {
     "name": "stdout",
     "output_type": "stream",
     "text": [
      "done  final.contigs.fa  \u001b[0m\u001b[01;34mintermediate_contigs\u001b[0m  log  opts.txt\n"
     ]
    }
   ],
   "source": [
    "ls workflow2/megahit"
   ]
  },
  {
   "cell_type": "markdown",
   "metadata": {},
   "source": [
    "#### Read Mapping with BWA\n",
    "\n",
    "> BWA"
   ]
  },
  {
   "cell_type": "code",
   "execution_count": 29,
   "metadata": {},
   "outputs": [
    {
     "name": "stdout",
     "output_type": "stream",
     "text": [
      "Module bwa/0.7.17.r1188 loaded\u001b[m\n",
      "\u001b[K\u001b[?1l\u001b>"
     ]
    }
   ],
   "source": [
    "module load bwa"
   ]
  },
  {
   "cell_type": "code",
   "execution_count": 31,
   "metadata": {},
   "outputs": [
    {
     "name": "stdout",
     "output_type": "stream",
     "text": [
      "\u001b[0m\u001b[01;34mmapping\u001b[0m  \u001b[01;34mmegahit\u001b[0m\n"
     ]
    }
   ],
   "source": [
    "metaASM=workflow2/megahit/final.contigs.fa # set variable for metagneome assembly\n",
    "WF2_MAP_FOLDER=workflow2/mapping\n",
    "mkdir -p $WF2_MAP_FOLDER\n",
    "ls workflow2"
   ]
  },
  {
   "cell_type": "code",
   "execution_count": 32,
   "metadata": {},
   "outputs": [
    {
     "name": "stdout",
     "output_type": "stream",
     "text": [
      "[bwa_index] Pack FASTA... 0.10 sec\n",
      "[bwa_index] Construct BWT for the packed sequence...\n",
      "[bwa_index] 3.51 seconds elapse.\n",
      "[bwa_index] Update BWT... 0.06 sec\n",
      "[bwa_index] Pack forward-only FASTA... 0.05 sec\n",
      "[bwa_index] Construct SA from BWT and Occ... 1.16 sec\n",
      "[main] Version: 0.7.17-r1188\n",
      "[main] CMD: bwa index workflow2/megahit/final.contigs.fa\n",
      "[main] Real time: 5.182 sec; CPU: 4.880 sec\n"
     ]
    }
   ],
   "source": [
    "bwa index $metaASM # index the assembly contigs"
   ]
  },
  {
   "cell_type": "code",
   "execution_count": 36,
   "metadata": {
    "collapsed": true
   },
   "outputs": [
    {
     "name": "stdout",
     "output_type": "stream",
     "text": [
      "[M::bwa_idx_load_from_disk] read 0 ALT contigs\n",
      "[M::process] read 1632202 sequences (240000214 bp)...\n",
      "[M::process] read 482162 sequences (70960251 bp)...\n",
      "[M::mem_pestat] # candidate unique pairs for (FF, FR, RF, RR): (365, 776303, 504, 395)\n",
      "[M::mem_pestat] analyzing insert size distribution for orientation FF...\n",
      "[M::mem_pestat] (25, 50, 75) percentile: (117, 187, 271)\n",
      "[M::mem_pestat] low and high boundaries for computing mean and std.dev: (1, 579)\n",
      "[M::mem_pestat] mean and std.dev: (196.44, 105.12)\n",
      "[M::mem_pestat] low and high boundaries for proper pairs: (1, 733)\n",
      "[M::mem_pestat] analyzing insert size distribution for orientation FR...\n",
      "[M::mem_pestat] (25, 50, 75) percentile: (231, 292, 360)\n",
      "[M::mem_pestat] low and high boundaries for computing mean and std.dev: (1, 618)\n",
      "[M::mem_pestat] mean and std.dev: (296.73, 98.71)\n",
      "[M::mem_pestat] low and high boundaries for proper pairs: (1, 747)\n",
      "[M::mem_pestat] analyzing insert size distribution for orientation RF...\n",
      "[M::mem_pestat] (25, 50, 75) percentile: (2656, 2730, 2789)\n",
      "[M::mem_pestat] low and high boundaries for computing mean and std.dev: (2390, 3055)\n",
      "[M::mem_pestat] mean and std.dev: (2709.10, 81.21)\n",
      "[M::mem_pestat] low and high boundaries for proper pairs: (2257, 3188)\n",
      "[M::mem_pestat] analyzing insert size distribution for orientation RR...\n",
      "[M::mem_pestat] (25, 50, 75) percentile: (134, 194, 265)\n",
      "[M::mem_pestat] low and high boundaries for computing mean and std.dev: (1, 527)\n",
      "[M::mem_pestat] mean and std.dev: (196.03, 92.63)\n",
      "[M::mem_pestat] low and high boundaries for proper pairs: (1, 658)\n",
      "[M::mem_pestat] skip orientation FF\n",
      "[M::mem_pestat] skip orientation RF\n",
      "[M::mem_pestat] skip orientation RR\n",
      "[M::mem_process_seqs] Processed 1632202 reads in 204.552 CPU sec, 14.382 real sec\n",
      "[M::mem_pestat] # candidate unique pairs for (FF, FR, RF, RR): (106, 229437, 126, 98)\n",
      "[M::mem_pestat] analyzing insert size distribution for orientation FF...\n",
      "[M::mem_pestat] (25, 50, 75) percentile: (132, 189, 267)\n",
      "[M::mem_pestat] low and high boundaries for computing mean and std.dev: (1, 537)\n",
      "[M::mem_pestat] mean and std.dev: (194.25, 88.17)\n",
      "[M::mem_pestat] low and high boundaries for proper pairs: (1, 672)\n",
      "[M::mem_pestat] analyzing insert size distribution for orientation FR...\n",
      "[M::mem_pestat] (25, 50, 75) percentile: (232, 294, 361)\n",
      "[M::mem_pestat] low and high boundaries for computing mean and std.dev: (1, 619)\n",
      "[M::mem_pestat] mean and std.dev: (297.85, 98.55)\n",
      "[M::mem_pestat] low and high boundaries for proper pairs: (1, 748)\n",
      "[M::mem_pestat] analyzing insert size distribution for orientation RF...\n",
      "[M::mem_pestat] (25, 50, 75) percentile: (2659, 2718, 2776)\n",
      "[M::mem_pestat] low and high boundaries for computing mean and std.dev: (2425, 3010)\n",
      "[M::mem_pestat] mean and std.dev: (2706.24, 76.53)\n",
      "[M::mem_pestat] low and high boundaries for proper pairs: (2308, 3127)\n",
      "[M::mem_pestat] analyzing insert size distribution for orientation RR...\n",
      "[M::mem_pestat] (25, 50, 75) percentile: (138, 206, 284)\n",
      "[M::mem_pestat] low and high boundaries for computing mean and std.dev: (1, 576)\n",
      "[M::mem_pestat] mean and std.dev: (218.46, 99.48)\n",
      "[M::mem_pestat] low and high boundaries for proper pairs: (1, 722)\n",
      "[M::mem_pestat] skip orientation FF\n",
      "[M::mem_pestat] skip orientation RF\n",
      "[M::mem_pestat] skip orientation RR\n",
      "[M::mem_process_seqs] Processed 482162 reads in 54.042 CPU sec, 2.411 real sec\n",
      "[main] Version: 0.7.17-r1188\n",
      "[main] CMD: bwa mem -t 24 workflow2/megahit/final.contigs.fa BCW_7425.R1.trim.fq BCW_7425.R2.trim.fq\n",
      "[main] Real time: 28.665 sec; CPU: 262.956 sec\n"
     ]
    }
   ],
   "source": [
    "# map fastq reads used to make assembly to the assembly index\n",
    "bwa mem -t 24 $metaASM BCW_7425.R1.trim.fq BCW_7425.R2.trim.fq > $WF2_MAP_FOLDER/BCW_7425.aln.sam"
   ]
  },
  {
   "cell_type": "code",
   "execution_count": 37,
   "metadata": {},
   "outputs": [
    {
     "name": "stdout",
     "output_type": "stream",
     "text": [
      "BCW_7425.aln.sam\n"
     ]
    }
   ],
   "source": [
    "ls workflow2/mapping"
   ]
  },
  {
   "cell_type": "markdown",
   "metadata": {},
   "source": [
    "#### Convert SAM to BAM\n",
    "\n",
    "> Samtools"
   ]
  },
  {
   "cell_type": "code",
   "execution_count": 38,
   "metadata": {},
   "outputs": [
    {
     "name": "stdout",
     "output_type": "stream",
     "text": [
      "Module samtools/1.9 loaded \u001b[m\n",
      "\u001b[K\u001b[?1l\u001b>"
     ]
    }
   ],
   "source": [
    "module load samtools"
   ]
  },
  {
   "cell_type": "code",
   "execution_count": 40,
   "metadata": {},
   "outputs": [],
   "source": [
    "samtools faidx $metaASM #index assembly for samtools"
   ]
  },
  {
   "cell_type": "code",
   "execution_count": 42,
   "metadata": {},
   "outputs": [],
   "source": [
    "samtools import $metaASM workflow2/mapping/BCW_7425.aln.sam $WF2_MAP_FOLDER/BCW_7425.aln.bam"
   ]
  },
  {
   "cell_type": "code",
   "execution_count": 47,
   "metadata": {},
   "outputs": [],
   "source": [
    "samtools sort $WF2_MAP_FOLDER/BCW_7425.aln.bam -o $WF2_MAP_FOLDER/BCW_7425.aln.bam.sorted"
   ]
  },
  {
   "cell_type": "code",
   "execution_count": 49,
   "metadata": {},
   "outputs": [],
   "source": [
    "samtools index $WF2_MAP_FOLDER/BCW_7425.aln.bam.sorted"
   ]
  },
  {
   "cell_type": "code",
   "execution_count": 50,
   "metadata": {},
   "outputs": [
    {
     "name": "stdout",
     "output_type": "stream",
     "text": [
      "BCW_7425.aln.bam         BCW_7425.aln.bam.sorted.bai\n",
      "BCW_7425.aln.bam.sorted  BCW_7425.aln.sam\n"
     ]
    }
   ],
   "source": [
    "ls workflow2/mapping"
   ]
  },
  {
   "cell_type": "markdown",
   "metadata": {},
   "source": [
    "#### Binning\n",
    "\n",
    "> Metabat"
   ]
  },
  {
   "cell_type": "code",
   "execution_count": 51,
   "metadata": {},
   "outputs": [
    {
     "name": "stdout",
     "output_type": "stream",
     "text": [
      "Module metabat 2017-01-17 Loaded.\u001b[m\n",
      "\u001b[K\u001b[?1l\u001b>"
     ]
    }
   ],
   "source": [
    "module load metabat"
   ]
  },
  {
   "cell_type": "code",
   "execution_count": 53,
   "metadata": {},
   "outputs": [],
   "source": [
    "mkdir -p workflow2/metabat\n",
    "WF2_METABAT_FOLDER=workflow2/metabat"
   ]
  },
  {
   "cell_type": "code",
   "execution_count": 54,
   "metadata": {},
   "outputs": [
    {
     "name": "stdout",
     "output_type": "stream",
     "text": [
      "Output depth matrix to workflow2/metabat/BCW_7425_depth_var.txt\n",
      "Output matrix to workflow2/metabat/BCW_7425_depth_var.txt\n",
      "Opening bam: workflow2/mapping/BCW_7425.aln.bam.sorted\n",
      "Consolidating headers\n",
      "Processing bam files\n",
      "Thread 0 processing: BCW_7425.aln.bam.sorted\n",
      "Thread 0 finished: BCW_7425.aln.bam.sorted with 2138951 reads and 2110356 readsWellMapped\n",
      "Creating depth matrix file: workflow2/metabat/BCW_7425_depth_var.txt\n",
      "Closing most bam files\n",
      "Closing last bam file\n",
      "Finished\n"
     ]
    }
   ],
   "source": [
    "# calculate read coverage, coverage variance & tetranucleotide frequencies for each contig\n",
    "jgi_summarize_bam_contig_depths --outputDepth $WF2_METABAT_FOLDER/BCW_7425_depth_var.txt $WF2_MAP_FOLDER/*.sorted"
   ]
  },
  {
   "cell_type": "code",
   "execution_count": 55,
   "metadata": {},
   "outputs": [
    {
     "name": "stdout",
     "output_type": "stream",
     "text": [
      "[Info] Correlation binning won't be applied since the number of samples (1) < minSamples (10)\n"
     ]
    }
   ],
   "source": [
    "# run MetaBAT\n",
    "metabat -i $metaASM -a $WF2_METABAT_FOLDER/BCW_7425_depth_var.txt --verysensitive -o $WF2_METABAT_FOLDER/BCW_7425 -v > $WF2_METABAT_FOLDER/BCW_7425-metabat-log.txt"
   ]
  },
  {
   "cell_type": "code",
   "execution_count": 56,
   "metadata": {},
   "outputs": [
    {
     "name": "stdout",
     "output_type": "stream",
     "text": [
      "BCW_7425.1.fa  BCW_7425.2.fa  BCW_7425_depth_var.txt  BCW_7425-metabat-log.txt\n"
     ]
    }
   ],
   "source": [
    "ls workflow2/metabat"
   ]
  },
  {
   "cell_type": "code",
   "execution_count": 57,
   "metadata": {},
   "outputs": [
    {
     "name": "stdout",
     "output_type": "stream",
     "text": [
      "[00:00:00] Using p1 90.0%, p2 85.0%, p3 90.0%, minProb 75.0%, minBinned 30%, minCV 1.0, minContig 2500, minContigByCorr 1000, minCorr 90%, paired 0, and 0 bootstrapping\n",
      "[00:00:00] Finished reading 241 contigs. Number of target contigs >= 2500 are 97, and [1000 and 2500) are 28 \n",
      "[00:00:00] Finished reading 241 contigs (using 125 including 28 short contigs) and 1 coverages from workflow2/metabat/BCW_7425_depth_var.txt\n",
      "[00:00:00] Finished TNF calculation.                                  \n",
      "[00:00:00] Finished building a probabilistic graph. (125 vertices and 1030 edges)          \n",
      "[00:00:00] 1st round binning 100.0% (125 of 125), ETA 0:00:00\n",
      "[00:00:00] Leftover contigs before fish_more: 44.00% (55 out of 125)\n",
      "[00:00:00] Leftover contigs after fish_more_by_friends_membership (roughly): 40.00% (50 out of 125), 2 bins   \n",
      "[00:00:00] Leftover contigs after fish_more (roughly): 40.00% (50 out of 125)\n",
      "[00:00:00] Leftover contigs after fish_more_by_corr (roughly): 40.00% (50 out of 125)\n",
      "[00:00:00] 96.19% (7661042 out of 7964902 bases) was binned.\n",
      "Number of clusters formed: 2\n"
     ]
    }
   ],
   "source": [
    "cat workflow2/metabat/BCW_7425-metabat-log.txt"
   ]
  },
  {
   "cell_type": "markdown",
   "metadata": {},
   "source": [
    "#### Split fastq reads for each bin\n",
    "\n",
    "> Pysam"
   ]
  },
  {
   "cell_type": "markdown",
   "metadata": {},
   "source": [
    "> Use perl one-liner to extract contig IDs from each metabat bin"
   ]
  },
  {
   "cell_type": "code",
   "execution_count": 103,
   "metadata": {},
   "outputs": [],
   "source": [
    "perl -ne 'm/^>(\\S+)/ and print(\"$1\\t1\\n\")' < workflow2/metabat/BCW_7425.1.fa >> workflow2/BCW_7425_bin_map.txt"
   ]
  },
  {
   "cell_type": "code",
   "execution_count": 104,
   "metadata": {},
   "outputs": [],
   "source": [
    "perl -ne 'm/^>(\\S+)/ and print(\"$1\\t2\\n\")' < workflow2/metabat/BCW_7425.2.fa >> workflow2/BCW_7425_bin_map.txt"
   ]
  },
  {
   "cell_type": "markdown",
   "metadata": {},
   "source": [
    "> Show tsv map file"
   ]
  },
  {
   "cell_type": "code",
   "execution_count": 105,
   "metadata": {},
   "outputs": [
    {
     "name": "stdout",
     "output_type": "stream",
     "text": [
      "k141_238\t1\n",
      "k141_237\t1\n",
      "k141_211\t1\n",
      "k141_250\t1\n",
      "k141_151\t1\n",
      "k141_93\t1\n",
      "k141_296\t1\n",
      "k141_109\t1\n",
      "k141_242\t1\n",
      "k141_144\t1\n",
      "k141_227\t1\n",
      "k141_139\t1\n",
      "k141_294\t1\n",
      "k141_150\t1\n",
      "k141_248\t1\n",
      "k141_281\t1\n",
      "k141_283\t1\n",
      "k141_265\t1\n",
      "k141_223\t1\n",
      "k141_254\t1\n",
      "k141_262\t1\n",
      "k141_271\t1\n",
      "k141_86\t1\n",
      "k141_287\t1\n",
      "k141_191\t1\n",
      "k141_233\t1\n",
      "k141_277\t1\n",
      "k141_131\t1\n",
      "k141_257\t1\n",
      "k141_166\t1\n",
      "k141_189\t1\n",
      "k141_208\t1\n",
      "k141_210\t1\n",
      "k141_89\t1\n",
      "k141_290\t1\n",
      "k141_295\t1\n",
      "k141_113\t1\n",
      "k141_221\t1\n",
      "k141_114\t1\n",
      "k141_82\t1\n",
      "k141_187\t1\n",
      "k141_284\t1\n",
      "k141_78\t2\n",
      "k141_192\t2\n",
      "k141_214\t2\n",
      "k141_234\t2\n",
      "k141_244\t2\n",
      "k141_133\t2\n",
      "k141_81\t2\n",
      "k141_286\t2\n",
      "k141_252\t2\n",
      "k141_246\t2\n",
      "k141_96\t2\n",
      "k141_219\t2\n",
      "k141_168\t2\n",
      "k141_259\t2\n",
      "k141_102\t2\n",
      "k141_175\t2\n",
      "k141_152\t2\n",
      "k141_106\t2\n",
      "k141_247\t2\n",
      "k141_193\t2\n",
      "k141_293\t2\n",
      "k141_188\t2\n",
      "k141_84\t2\n",
      "k141_226\t2\n",
      "k141_180\t2\n",
      "k141_125\t2\n",
      "k141_179\t2\n",
      "k141_253\t2\n",
      "k141_159\t2\n",
      "k141_80\t2\n",
      "k141_183\t2\n",
      "k141_182\t2\n",
      "k141_278\t2\n"
     ]
    }
   ],
   "source": [
    "cat workflow2/BCW_7425_bin_map.txt"
   ]
  },
  {
   "cell_type": "code",
   "execution_count": 106,
   "metadata": {},
   "outputs": [
    {
     "name": "stdout",
     "output_type": "stream",
     "text": [
      "(pysam) "
     ]
    },
    {
     "ename": "",
     "evalue": "1",
     "output_type": "error",
     "traceback": []
    }
   ],
   "source": [
    "module unload bio\n",
    "source activate pysam"
   ]
  },
  {
   "cell_type": "code",
   "execution_count": 113,
   "metadata": {
    "scrolled": true
   },
   "outputs": [
    {
     "name": "stdout",
     "output_type": "stream",
     "text": [
      "#!/usr/bin/env python\n",
      "#\n",
      "# python bin-bam-boom.py pooled-reads.bam contig-to-bin-map.tsv outprefix\n",
      "\n",
      "import pysam\n",
      "import sys\n",
      "\n",
      "inbam = sys.argv[1]\n",
      "mapfile = sys.argv[2]\n",
      "prefix = sys.argv[3]\n",
      "\n",
      "# Load contig-->bin map into a dictionary\n",
      "# Create an output file for each bin\n",
      "outfiles = dict()\n",
      "contig_bin_map = dict()\n",
      "for line in open(mapfile, 'r'):\n",
      "    contigid, binid = line.strip().split()\n",
      "    contigid = contigid.split(' ')[0]\n",
      "    contig_bin_map[contigid] = binid\n",
      "    if binid not in outfiles:\n",
      "        outfilename = prefix + '.' + binid + '.fastq'\n",
      "        outfiles[binid] = open(outfilename, 'w')\n",
      "outfilename = prefix + '.unbinned.fastq'\n",
      "outfiles['unbinned'] = open(outfilename, 'w')\n",
      "\n",
      "# Iterate over all alignments\n",
      "bam = pysam.AlignmentFile(inbam, 'rb')\n",
      "for alignment in bam:\n",
      "    if alignment.is_secondary or alignment.is_supplementary:\n",
      "        continue # Ignore these ones\n",
      "\n",
      "    contigid = bam.get_reference_name(alignment.tid)\n",
      "    if contigid  in contig_bin_map:\n",
      "         binid = contig_bin_map[contigid]\n",
      "    else:\n",
      "         binid = 'unbinned'\n",
      "    outfile = outfiles[binid]\n",
      "\n",
      "    # Formulate a proper read name\n",
      "    readname = alignment.qname\n",
      "    if alignment.flag & 1:\n",
      "        # Logical XOR: if the read is paired, it should be first in pair\n",
      "        # or second in pair, not both.\n",
      "        assert (alignment.flag & 64) != (alignment.flag & 128)\n",
      "        suffix = '/1' if alignment.flag & 64 else '/2'\n",
      "        if not readname.endswith(suffix):\n",
      "            readname += suffix\n",
      "\n",
      "    # Print read to appropriate output file\n",
      "    print('@', readname, '\\n', alignment.seq, '\\n+\\n', alignment.qual, sep='',\n",
      "          file=outfile)\n",
      "(pysam) "
     ]
    },
    {
     "ename": "",
     "evalue": "1",
     "output_type": "error",
     "traceback": []
    }
   ],
   "source": [
    "cat bin-bam-boom.py # view script"
   ]
  },
  {
   "cell_type": "code",
   "execution_count": 108,
   "metadata": {},
   "outputs": [
    {
     "name": "stdout",
     "output_type": "stream",
     "text": [
      "(pysam) "
     ]
    },
    {
     "ename": "",
     "evalue": "1",
     "output_type": "error",
     "traceback": []
    }
   ],
   "source": [
    "python bin-bam-boom.py workflow2/mapping/BCW_7425.aln.bam workflow2/BCW_7425_bin_map.txt workflow2/BCW_7425 # run script"
   ]
  },
  {
   "cell_type": "code",
   "execution_count": 111,
   "metadata": {},
   "outputs": [
    {
     "name": "stdout",
     "output_type": "stream",
     "text": [
      "total 699M\n",
      "drwxrwsr-x 3 smhigdon weimergrp 4.0K Jan 10 15:26 \u001b[0m\u001b[01;34mmegahit\u001b[0m\n",
      "drwxrwsr-x 2 smhigdon weimergrp 4.0K Jan 10 15:58 \u001b[01;34mmapping\u001b[0m\n",
      "drwxrwsr-x 2 smhigdon weimergrp 4.0K Jan 10 16:54 \u001b[01;34mmetabat\u001b[0m\n",
      "-rw-rw-r-- 1 smhigdon weimergrp  816 Jan 10 16:57 BCW_7425_bin_map.txt\n",
      "-rw-rw-r-- 1 smhigdon weimergrp 325M Jan 10 17:02 BCW_7425.1.fastq\n",
      "-rw-rw-r-- 1 smhigdon weimergrp  61M Jan 10 17:02 BCW_7425.unbinned.fastq\n",
      "-rw-rw-r-- 1 smhigdon weimergrp 315M Jan 10 17:02 BCW_7425.2.fastq\n",
      "(pysam) "
     ]
    },
    {
     "ename": "",
     "evalue": "1",
     "output_type": "error",
     "traceback": []
    }
   ],
   "source": [
    "ls -lrth workflow2"
   ]
  },
  {
   "cell_type": "markdown",
   "metadata": {},
   "source": [
    "#### Classify split fastq\n",
    "\n",
    "> Sourmash"
   ]
  },
  {
   "cell_type": "code",
   "execution_count": 112,
   "metadata": {},
   "outputs": [
    {
     "name": "stdout",
     "output_type": "stream",
     "text": [
      "@M02034:368:000000000-B942D:1:1101:17676:1923/1\n",
      "GCAAACCAATAACAGCAAAGATGTCGCGATTAAAGGGCAGGGCTTTTTCCAGGTGATGTTGCCAGATGGCTCATCAGCCTATACCCGTGACGGCTCTTTCCAGGTGGATCAGAACGGGCAGCTGGTGACGGCTGGTGGTTTTCAGGTGCA\n",
      "+\n",
      "1/GF?11G?1GF1F11GGDF?/>//</>F21HHGFB/0G?<>/0011000FE@1@B0>10B11FBB0>@121B00FB122B/>///A/AB/AB00011000FAB1AAD21FAFA0AA11B001BA0AE0A111EEAEF@1111FC>>11A\n",
      "@M02034:368:000000000-B942D:1:1101:17676:1923/2\n",
      "CGCCAGCCGGTGGCACAGTCTTCCGTACAAACCACCTTACCATCCGGATTACAAATCGGTAC\n",
      "+\n",
      "1>>A111>11111A0A00BFFEFG010A011AAFEFFG1101DAB///AA1AA11AF//A/A\n",
      "@M02034:368:000000000-B942D:1:1101:14879:1956/1\n",
      "ATAAAAGAACTGACAACCTTTTATTATCCCTCACGTAAAACGATGGCATCAAAA\n",
      "(pysam) "
     ]
    },
    {
     "ename": "",
     "evalue": "1",
     "output_type": "error",
     "traceback": []
    }
   ],
   "source": [
    "head workflow2/BCW_7425.1.fastq"
   ]
  },
  {
   "cell_type": "markdown",
   "metadata": {},
   "source": [
    "> Split reads are interleaved"
   ]
  },
  {
   "cell_type": "code",
   "execution_count": 114,
   "metadata": {},
   "outputs": [],
   "source": [
    "source deactivate"
   ]
  },
  {
   "cell_type": "code",
   "execution_count": 116,
   "metadata": {},
   "outputs": [
    {
     "name": "stdout",
     "output_type": "stream",
     "text": [
      "Module bio/1.0 loaded \u001b[m\n",
      "\u001b[K\u001b[?1l\u001b>"
     ]
    }
   ],
   "source": [
    "module load bio"
   ]
  },
  {
   "cell_type": "code",
   "execution_count": 118,
   "metadata": {},
   "outputs": [
    {
     "name": "stdout",
     "output_type": "stream",
     "text": [
      "62.0Gb memory in total.\n",
      "Using: 56.592Gb.\n",
      "MEGAHIT v1.1.1\n",
      "--- [Fri Jan 11 10:00:24 2019] Start assembly. Number of CPU threads 24 ---\n",
      "--- [Fri Jan 11 10:00:24 2019] Available memory: 67516657664, used: 60764991897\n",
      "--- [Fri Jan 11 10:00:24 2019] Converting reads to binaries ---\n",
      "    [ERROR] [read_lib_functions-inl.h : 203]: PE library number of reads is odd: 986067!\n",
      "    [ERROR] [read_lib_functions-inl.h : 204]: File(s): workflow2/BCW_7425.1.fastq\n",
      "Error occurs when running \"megahit_asm_core buildlib\"; please refer to workflow2/megahit/BCW_7425.1/log for detail\n",
      "[Exit code 1]\n"
     ]
    },
    {
     "ename": "",
     "evalue": "1",
     "output_type": "error",
     "traceback": []
    }
   ],
   "source": [
    "# megahit --12 workflow2/BCW_7425.1.fastq -t 24 -o workflow2/megahit/BCW_7425.1\n",
    "\n",
    "# there are an odd number of total reads that were extracted using the pysam method.\n",
    "\n",
    "# This implies that there are orphan reads within the subset.\n",
    "\n",
    "# These will be removed using the khmer script 'extract-paired-reads.py'"
   ]
  },
  {
   "cell_type": "markdown",
   "metadata": {},
   "source": [
    "#### Extract Paired Reads\n",
    "\n",
    "> BCW_7425.1\n",
    "\n",
    "> Khmer v2.0"
   ]
  },
  {
   "cell_type": "code",
   "execution_count": 120,
   "metadata": {},
   "outputs": [
    {
     "name": "stdout",
     "output_type": "stream",
     "text": [
      "\n",
      "|| This is the script extract-paired-reads.py in khmer.\n",
      "|| You are running khmer version 2.0\n",
      "|| You are also using screed version 0.9\n",
      "||\n",
      "|| If you use this script in a publication, please cite EACH of the following:\n",
      "||\n",
      "||   * MR Crusoe et al., 2015. http://dx.doi.org/10.12688/f1000research.6924.1\n",
      "||\n",
      "|| Please see http://khmer.readthedocs.org/en/latest/citations.html for details.\n",
      "\n",
      "reading file \"workflow2/BCW_7425.1.fastq\"\n",
      "outputting interleaved pairs to \"BCW_7425.1_paired.fastq\"\n",
      "outputting orphans to \"BCW_7425.1_orphans.fastq\"\n",
      "... 400000\n",
      "... 500000\n",
      "... 600000\n",
      "... 700000\n",
      "... 800000\n",
      "... 900000\n",
      "DONE; read 986067 sequences, 487296 pairs and 11475 singletons\n",
      "wrote to: BCW_7425.1_paired.fastq and BCW_7425.1_orphans.fastq\n"
     ]
    }
   ],
   "source": [
    "extract-paired-reads.py -d workflow2 -p workflow2/BCW_7425.1_paired.fastq -s workflow2/BCW_7425.1_orphans.fastq workflow2/BCW_7425.1.fastq"
   ]
  },
  {
   "cell_type": "markdown",
   "metadata": {},
   "source": [
    "#### Assemble BCW_7425.1 \n",
    "\n",
    "> Megahit"
   ]
  },
  {
   "cell_type": "code",
   "execution_count": 127,
   "metadata": {},
   "outputs": [
    {
     "name": "stdout",
     "output_type": "stream",
     "text": [
      "62.0Gb memory in total.\n",
      "Using: 56.592Gb.\n",
      "MEGAHIT v1.1.1\n",
      "--- [Fri Jan 11 10:21:19 2019] Start assembly. Number of CPU threads 24 ---\n",
      "--- [Fri Jan 11 10:21:19 2019] Available memory: 67516657664, used: 60764991897\n",
      "--- [Fri Jan 11 10:21:19 2019] Converting reads to binaries ---\n",
      "    [read_lib_functions-inl.h  : 209]     Lib 0 (workflow2/BCW_7425.1_paired.fastq): interleaved, 974592 reads, 151 max length\n",
      "    [utils.h                   : 126]     Real: 3.0701\tuser: 1.8496\tsys: 0.2537\tmaxrss: 84312\n",
      "--- [Fri Jan 11 10:21:22 2019] k list: 21,29,39,59,79,99,119,141 ---\n",
      "--- [Fri Jan 11 10:21:22 2019] Extracting solid (k+1)-mers for k = 21 ---\n",
      "--- [Fri Jan 11 10:21:27 2019] Building graph for k = 21 ---\n",
      "--- [Fri Jan 11 10:21:29 2019] Assembling contigs from SdBG for k = 21 ---\n",
      "--- [Fri Jan 11 10:21:31 2019] Local assembling k = 21 ---\n",
      "--- [Fri Jan 11 10:21:33 2019] Extracting iterative edges from k = 21 to 29 ---\n",
      "--- [Fri Jan 11 10:21:36 2019] Building graph for k = 29 ---\n",
      "--- [Fri Jan 11 10:21:37 2019] Assembling contigs from SdBG for k = 29 ---\n",
      "--- [Fri Jan 11 10:21:39 2019] Local assembling k = 29 ---\n",
      "--- [Fri Jan 11 10:21:41 2019] Extracting iterative edges from k = 29 to 39 ---\n",
      "--- [Fri Jan 11 10:21:44 2019] Building graph for k = 39 ---\n",
      "--- [Fri Jan 11 10:21:46 2019] Assembling contigs from SdBG for k = 39 ---\n",
      "--- [Fri Jan 11 10:21:48 2019] Local assembling k = 39 ---\n",
      "--- [Fri Jan 11 10:21:50 2019] Extracting iterative edges from k = 39 to 59 ---\n",
      "--- [Fri Jan 11 10:21:52 2019] Building graph for k = 59 ---\n",
      "--- [Fri Jan 11 10:21:55 2019] Assembling contigs from SdBG for k = 59 ---\n",
      "--- [Fri Jan 11 10:21:58 2019] Local assembling k = 59 ---\n",
      "--- [Fri Jan 11 10:22:00 2019] Extracting iterative edges from k = 59 to 79 ---\n",
      "--- [Fri Jan 11 10:22:02 2019] Building graph for k = 79 ---\n",
      "--- [Fri Jan 11 10:22:04 2019] Assembling contigs from SdBG for k = 79 ---\n",
      "--- [Fri Jan 11 10:22:07 2019] Local assembling k = 79 ---\n",
      "--- [Fri Jan 11 10:22:09 2019] Extracting iterative edges from k = 79 to 99 ---\n",
      "--- [Fri Jan 11 10:22:11 2019] Building graph for k = 99 ---\n",
      "--- [Fri Jan 11 10:22:12 2019] Assembling contigs from SdBG for k = 99 ---\n",
      "--- [Fri Jan 11 10:22:15 2019] Local assembling k = 99 ---\n",
      "--- [Fri Jan 11 10:22:17 2019] Extracting iterative edges from k = 99 to 119 ---\n",
      "--- [Fri Jan 11 10:22:18 2019] Building graph for k = 119 ---\n",
      "--- [Fri Jan 11 10:22:20 2019] Assembling contigs from SdBG for k = 119 ---\n",
      "--- [Fri Jan 11 10:22:23 2019] Local assembling k = 119 ---\n",
      "--- [Fri Jan 11 10:22:24 2019] Extracting iterative edges from k = 119 to 141 ---\n",
      "--- [Fri Jan 11 10:22:25 2019] Building graph for k = 141 ---\n",
      "--- [Fri Jan 11 10:22:27 2019] Assembling contigs from SdBG for k = 141 ---\n",
      "--- [Fri Jan 11 10:22:29 2019] Merging to output final contigs ---\n",
      "--- [STAT] 46 contigs, total 4830449 bp, min 321 bp, max 406850 bp, avg 105010 bp, N50 162146 bp\n",
      "--- [Fri Jan 11 10:22:29 2019] ALL DONE. Time elapsed: 70.310821 seconds ---\n"
     ]
    }
   ],
   "source": [
    "megahit --12 workflow2/BCW_7425.1_paired.fastq -t 24 -o workflow2/megahit/BCW_7425.1"
   ]
  },
  {
   "cell_type": "markdown",
   "metadata": {},
   "source": [
    "#### Assemble BCW_7425.2\n",
    "\n",
    "> Megahit"
   ]
  },
  {
   "cell_type": "code",
   "execution_count": 119,
   "metadata": {},
   "outputs": [
    {
     "name": "stdout",
     "output_type": "stream",
     "text": [
      "62.0Gb memory in total.\n",
      "Using: 56.592Gb.\n",
      "MEGAHIT v1.1.1\n",
      "--- [Fri Jan 11 10:06:29 2019] Start assembly. Number of CPU threads 24 ---\n",
      "--- [Fri Jan 11 10:06:29 2019] Available memory: 67516657664, used: 60764991897\n",
      "--- [Fri Jan 11 10:06:29 2019] Converting reads to binaries ---\n",
      "    [read_lib_functions-inl.h  : 209]     Lib 0 (workflow2/BCW_7425.2.fastq): interleaved, 944526 reads, 151 max length\n",
      "    [utils.h                   : 126]     Real: 1.6803\tuser: 1.4422\tsys: 0.2357\tmaxrss: 84036\n",
      "--- [Fri Jan 11 10:06:31 2019] k list: 21,29,39,59,79,99,119,141 ---\n",
      "--- [Fri Jan 11 10:06:31 2019] Extracting solid (k+1)-mers for k = 21 ---\n",
      "--- [Fri Jan 11 10:06:35 2019] Building graph for k = 21 ---\n",
      "--- [Fri Jan 11 10:06:37 2019] Assembling contigs from SdBG for k = 21 ---\n",
      "--- [Fri Jan 11 10:06:39 2019] Local assembling k = 21 ---\n",
      "--- [Fri Jan 11 10:06:42 2019] Extracting iterative edges from k = 21 to 29 ---\n",
      "--- [Fri Jan 11 10:06:44 2019] Building graph for k = 29 ---\n",
      "--- [Fri Jan 11 10:06:45 2019] Assembling contigs from SdBG for k = 29 ---\n",
      "--- [Fri Jan 11 10:06:47 2019] Local assembling k = 29 ---\n",
      "--- [Fri Jan 11 10:06:49 2019] Extracting iterative edges from k = 29 to 39 ---\n",
      "--- [Fri Jan 11 10:06:52 2019] Building graph for k = 39 ---\n",
      "--- [Fri Jan 11 10:06:53 2019] Assembling contigs from SdBG for k = 39 ---\n",
      "--- [Fri Jan 11 10:06:54 2019] Local assembling k = 39 ---\n",
      "--- [Fri Jan 11 10:06:57 2019] Extracting iterative edges from k = 39 to 59 ---\n",
      "--- [Fri Jan 11 10:06:59 2019] Building graph for k = 59 ---\n",
      "--- [Fri Jan 11 10:07:00 2019] Assembling contigs from SdBG for k = 59 ---\n",
      "--- [Fri Jan 11 10:07:01 2019] Local assembling k = 59 ---\n",
      "--- [Fri Jan 11 10:07:04 2019] Extracting iterative edges from k = 59 to 79 ---\n",
      "--- [Fri Jan 11 10:07:05 2019] Building graph for k = 79 ---\n",
      "--- [Fri Jan 11 10:07:06 2019] Assembling contigs from SdBG for k = 79 ---\n",
      "--- [Fri Jan 11 10:07:08 2019] Local assembling k = 79 ---\n",
      "--- [Fri Jan 11 10:07:10 2019] Extracting iterative edges from k = 79 to 99 ---\n",
      "--- [Fri Jan 11 10:07:12 2019] Building graph for k = 99 ---\n",
      "--- [Fri Jan 11 10:07:13 2019] Assembling contigs from SdBG for k = 99 ---\n",
      "--- [Fri Jan 11 10:07:14 2019] Local assembling k = 99 ---\n",
      "--- [Fri Jan 11 10:07:16 2019] Extracting iterative edges from k = 99 to 119 ---\n",
      "--- [Fri Jan 11 10:07:17 2019] Building graph for k = 119 ---\n",
      "--- [Fri Jan 11 10:07:18 2019] Assembling contigs from SdBG for k = 119 ---\n",
      "--- [Fri Jan 11 10:07:20 2019] Local assembling k = 119 ---\n",
      "--- [Fri Jan 11 10:07:22 2019] Extracting iterative edges from k = 119 to 141 ---\n",
      "--- [Fri Jan 11 10:07:23 2019] Building graph for k = 141 ---\n",
      "--- [Fri Jan 11 10:07:24 2019] Assembling contigs from SdBG for k = 141 ---\n",
      "--- [Fri Jan 11 10:07:25 2019] Merging to output final contigs ---\n",
      "--- [STAT] 42 contigs, total 2830691 bp, min 219 bp, max 356733 bp, avg 67397 bp, N50 143972 bp\n",
      "--- [Fri Jan 11 10:07:25 2019] ALL DONE. Time elapsed: 56.596133 seconds ---\n"
     ]
    }
   ],
   "source": [
    "megahit --12 workflow2/BCW_7425.2.fastq -t 24 -o workflow2/megahit/BCW_7425.2"
   ]
  },
  {
   "cell_type": "markdown",
   "metadata": {},
   "source": [
    "#### Compute Minhash Signatures\n",
    "\n",
    "> Sourmash v.2.0.0a11"
   ]
  },
  {
   "cell_type": "code",
   "execution_count": 128,
   "metadata": {},
   "outputs": [
    {
     "name": "stdout",
     "output_type": "stream",
     "text": [
      "done  final.contigs.fa  \u001b[0m\u001b[01;34mintermediate_contigs\u001b[0m  log  opts.txt\n"
     ]
    }
   ],
   "source": [
    "ls workflow2/megahit/BCW_7425.1"
   ]
  },
  {
   "cell_type": "code",
   "execution_count": 129,
   "metadata": {},
   "outputs": [],
   "source": [
    "mkdir -p workflow2/sourmash"
   ]
  },
  {
   "cell_type": "code",
   "execution_count": 131,
   "metadata": {},
   "outputs": [
    {
     "name": "stdout",
     "output_type": "stream",
     "text": [
      "usage: sourmash [-h] [--protein] [--no-protein] [--dna] [--no-dna] [-q]\n",
      "                [--input-is-protein] [-k KSIZES] [-n NUM_HASHES]\n",
      "                [--check-sequence] [-f] [-o OUTPUT] [--singleton]\n",
      "                [--merge MERGED] [--name-from-first] [--track-abundance]\n",
      "                [--scaled SCALED] [--seed SEED] [--randomize]\n",
      "                [--license LICENSE]\n",
      "                filenames [filenames ...]\n",
      "\n",
      "positional arguments:\n",
      "  filenames             file(s) of sequences\n",
      "\n",
      "optional arguments:\n",
      "  -h, --help            show this help message and exit\n",
      "  --protein             build protein signatures (default: False)\n",
      "  --no-protein          do not build protein signatures\n",
      "  --dna                 build DNA signatures (default: True)\n",
      "  --no-dna              do not build DNA signatures\n",
      "  -q, --quiet           suppress non-error output\n",
      "  --input-is-protein    Consume protein sequences - no translation needed.\n",
      "  -k KSIZES, --ksizes KSIZES\n",
      "                        comma-separated list of k-mer sizes (default:\n",
      "                        21,31,51)\n",
      "  -n NUM_HASHES, --num-hashes NUM_HASHES\n",
      "                        number of hashes to use in each sketch (default: 500)\n",
      "  --check-sequence      complain if input sequence is invalid (default: False)\n",
      "  -f, --force           recompute signatures even if the file exists (default:\n",
      "                        False)\n",
      "  -o OUTPUT, --output OUTPUT\n",
      "                        output computed signatures to this file\n",
      "  --singleton           compute a signature for each sequence record\n",
      "                        individually (default: False)\n",
      "  --merge MERGED, --name MERGED\n",
      "                        merge all input files into one signature named this\n",
      "  --name-from-first     name the signature generated from each file after the\n",
      "                        first record in the file (default: False)\n",
      "  --track-abundance     track k-mer abundances in the generated signature\n",
      "                        (default: False)\n",
      "  --scaled SCALED       choose number of hashes as 1 in FRACTION of input\n",
      "                        k-mers\n",
      "  --seed SEED           seed used by MurmurHash (default: 42)\n",
      "  --randomize           shuffle the list of input filenames randomly\n",
      "  --license LICENSE     signature license. Currently only CC0 is supported.\n"
     ]
    }
   ],
   "source": [
    "sourmash compute -h"
   ]
  },
  {
   "cell_type": "markdown",
   "metadata": {},
   "source": [
    "##### BCW_7425.1"
   ]
  },
  {
   "cell_type": "code",
   "execution_count": 175,
   "metadata": {},
   "outputs": [
    {
     "name": "stdout",
     "output_type": "stream",
     "text": [
      "\u001b[Ksetting num_hashes to 0 because --scaled is set\n",
      "\u001b[Kcomputing signatures for files: workflow2/megahit/BCW_7425.1/final.contigs.fa\n",
      "\u001b[KComputing signature for ksizes: [31]\n",
      "\u001b[KComputing only nucleotide (and not protein) signatures.\n",
      "\u001b[KComputing a total of 1 signature(s).\n",
      "\u001b[K... reading sequences from workflow2/megahit/BCW_7425.1/final.contigs.fa\n",
      "\u001b[Kcalculated 1 signatures for 46 sequences in workflow2/megahit/BCW_7425.1/final.contigs.fa\n",
      "\u001b[Ksaved 1 signature(s). Note: signature license is CC0.\n"
     ]
    }
   ],
   "source": [
    "sourmash compute -k 31 --scaled 2000 -o workflow2/sourmash/BCW_7425.1-k31.sig workflow2/megahit/BCW_7425.1/final.contigs.fa"
   ]
  },
  {
   "cell_type": "markdown",
   "metadata": {},
   "source": [
    "##### BCW_7425.2"
   ]
  },
  {
   "cell_type": "code",
   "execution_count": 176,
   "metadata": {},
   "outputs": [
    {
     "name": "stdout",
     "output_type": "stream",
     "text": [
      "\u001b[Ksetting num_hashes to 0 because --scaled is set\n",
      "\u001b[Kcomputing signatures for files: workflow2/megahit/BCW_7425.2/final.contigs.fa\n",
      "\u001b[KComputing signature for ksizes: [31]\n",
      "\u001b[KComputing only nucleotide (and not protein) signatures.\n",
      "\u001b[KComputing a total of 1 signature(s).\n",
      "\u001b[K... reading sequences from workflow2/megahit/BCW_7425.2/final.contigs.fa\n",
      "\u001b[Kcalculated 1 signatures for 42 sequences in workflow2/megahit/BCW_7425.2/final.contigs.fa\n",
      "\u001b[Ksaved 1 signature(s). Note: signature license is CC0.\n"
     ]
    }
   ],
   "source": [
    "sourmash compute -k 31 --scaled 2000 -o workflow2/sourmash/BCW_7425.2-k31.sig workflow2/megahit/BCW_7425.2/final.contigs.fa"
   ]
  },
  {
   "cell_type": "markdown",
   "metadata": {},
   "source": [
    "#### Classify Signatures\n",
    "\n",
    "> Sourmash v.2.0.0a11"
   ]
  },
  {
   "cell_type": "code",
   "execution_count": 159,
   "metadata": {},
   "outputs": [],
   "source": [
    "module unload bio"
   ]
  },
  {
   "cell_type": "code",
   "execution_count": 170,
   "metadata": {},
   "outputs": [
    {
     "name": "stdout",
     "output_type": "stream",
     "text": [
      "\n",
      "sourmash lca <command> [<args>] - work with taxonomic information.\n",
      "\n",
      "** Commands can be:\n",
      "\n",
      "index <taxonomy.csv> <output_db name> <signature [...]>  - create LCA database\n",
      "classify --db <db_name [...]> --query <signature [...]>  - classify genomes\n",
      "gather <signature> <db_name [...]>                       - classify metagenomes\n",
      "summarize --db <db_name [...]> --query <signature [...]> - summarize mixture\n",
      "rankinfo <db_name [...]>                                 - database rank info\n",
      "compare_csv <csv1> <csv2>                                - compare spreadsheets\n",
      "\n",
      "** Use '-h' to get subcommand-specific help, e.g.\n",
      "\n",
      "sourmash lca index -h\n",
      "\n"
     ]
    },
    {
     "ename": "",
     "evalue": "1",
     "output_type": "error",
     "traceback": []
    }
   ],
   "source": [
    "sourmash lca"
   ]
  },
  {
   "cell_type": "code",
   "execution_count": 3,
   "metadata": {},
   "outputs": [
    {
     "name": "stdout",
     "output_type": "stream",
     "text": [
      "\u001b[Kloaded 1 LCA databases. ksize=31, scaled=10000k-k31.lca.json.gz\n",
      "\u001b[Kfinding query signatures...\n",
      "\u001b[Koutputting classifications to stdout\n",
      "ID,status,superkingdom,phylum,class,order,family,genus,species,strain\n",
      "\u001b[Kworkflow2/megahit/BCW_7425.1/final.contigs.fa,found,Bacteria,Proteobacteria,Gammaproteobacteria,Enterobacterales,Enterobacteriaceae,Escherichia,Escherichia coli,\n",
      "\u001b[Kclassified 1 signatures total\n"
     ]
    }
   ],
   "source": [
    "sourmash lca classify --db /home/smhigdon/mnt/genbank-k31.lca.json.gz --query workflow2/sourmash/BCW_7425.1-k31.sig"
   ]
  },
  {
   "cell_type": "markdown",
   "metadata": {},
   "source": [
    "> Minhash signature for __BCW_7425.1__ was successfully classified to the species level as __*E. coli*__"
   ]
  },
  {
   "cell_type": "code",
   "execution_count": 13,
   "metadata": {},
   "outputs": [
    {
     "name": "stdout",
     "output_type": "stream",
     "text": [
      "\u001b[Kloaded 1 LCA databases. ksize=31, scaled=10000k-k31.lca.json.gz\n",
      "\u001b[Kfinding query signatures...\n",
      "\u001b[Koutputting classifications to stdout\n",
      "ID,status,superkingdom,phylum,class,order,family,genus,species,strain\n",
      "\u001b[Kworkflow2/megahit/BCW_7425.2/final.contigs.fa,found,Bacteria,Firmicutes,Bacilli,Bacillales,Staphylococcaceae,Staphylococcus,,\n",
      "\u001b[Kclassified 1 signatures total\n"
     ]
    }
   ],
   "source": [
    "sourmash lca classify --db /home/smhigdon/mnt/genbank-k31.lca.json.gz --query workflow2/sourmash/BCW_7425.2-k31.sig"
   ]
  },
  {
   "cell_type": "markdown",
   "metadata": {},
   "source": [
    "> Minhash signature for __BCW_7425.2__ was successfully classified to the genus level as __Staphylococcus__"
   ]
  },
  {
   "cell_type": "code",
   "execution_count": 4,
   "metadata": {},
   "outputs": [
    {
     "name": "stdout",
     "output_type": "stream",
     "text": [
      "Module bio/1.0 loaded \u001b[m\n",
      "\u001b[K\u001b[?1l\u001b>"
     ]
    }
   ],
   "source": [
    "module load bio"
   ]
  },
  {
   "cell_type": "markdown",
   "metadata": {},
   "source": [
    "#### BCW_7425.1 Assembly Stats\n",
    "\n",
    "> QUAST"
   ]
  },
  {
   "cell_type": "code",
   "execution_count": 6,
   "metadata": {},
   "outputs": [
    {
     "name": "stdout",
     "output_type": "stream",
     "text": [
      "\n",
      "QUAST: QUality ASsessment Tool for Genome Assemblies\n",
      "Version: 4.1, build 26.05.2016 14:25 \n",
      "\n",
      "Usage: python /share/apps/bio/bio/bin/quast [options] <files_with_contigs>\n",
      "\n",
      "Options:\n",
      "-o  --output-dir  <dirname>   Directory to store all result files [default: quast_results/results_<datetime>]\n",
      "-R                <filename>  Reference genome file\n",
      "-G  --genes       <filename>  File with gene coordinates in the reference\n",
      "-m  --min-contig  <int>       Lower threshold for contig length [default: 500]\n",
      "-t  --threads     <int>       Maximum number of threads [default: 25% of CPUs]\n",
      "\n",
      "These are basic options. To see the full list, use --help\n",
      "\n"
     ]
    }
   ],
   "source": [
    "quast"
   ]
  },
  {
   "cell_type": "code",
   "execution_count": 7,
   "metadata": {},
   "outputs": [
    {
     "name": "stdout",
     "output_type": "stream",
     "text": [
      "BCW_7425.1.fastq          BCW_7425.2.fastq         \u001b[0m\u001b[01;34mmapping\u001b[0m  \u001b[01;34mquast\u001b[0m\n",
      "BCW_7425.1_orphans.fastq  BCW_7425_bin_map.txt     \u001b[01;34mmegahit\u001b[0m  \u001b[01;34msourmash\u001b[0m\n",
      "BCW_7425.1_paired.fastq   BCW_7425.unbinned.fastq  \u001b[01;34mmetabat\u001b[0m  \u001b[01;34mtest\u001b[0m\n"
     ]
    }
   ],
   "source": [
    "mkdir -p workflow2/quast && ls workflow2"
   ]
  },
  {
   "cell_type": "code",
   "execution_count": 8,
   "metadata": {},
   "outputs": [
    {
     "name": "stdout",
     "output_type": "stream",
     "text": [
      "/share/apps/bio/bio/opt/quast-4.1/quast.py -o workflow2/quast/BCW_7425.1 -t 24 workflow2/megahit/BCW_7425.1/final.contigs.fa\n",
      "\n",
      "Version: 4.1, build 26.05.2016 14:25\n",
      "\n",
      "System information:\n",
      "  OS: Linux-4.15.0-39-generic-x86_64-with-debian-buster-sid (linux_64)\n",
      "  Python version: 2.7.15\n",
      "  CPUs number: 24\n",
      "\n",
      "Started: 2019-01-11 15:01:14\n",
      "\n",
      "Logging to /group/weimergrp/smh/Dolphin_staph/workflow2/quast/BCW_7425.1/quast.log\n",
      "\n",
      "Main parameters: \n",
      "  Threads: 24, minimum contig length: 500, ambiguity: one, threshold for extensive misassembly size: 1000\n",
      "\n",
      "Contigs:\n",
      "  workflow2/megahit/BCW_7425.1/final.contigs.fa ==> final.contigs\n",
      "\n",
      "2019-01-11 15:01:45\n",
      "Running Basic statistics processor...\n",
      "  Contig files: \n",
      "    final.contigs\n",
      "  Calculating N50 and L50...\n",
      "    final.contigs, N50 = 162146, L50 = 9, Total length = 4829247, GC % = 50.42, # N's per 100 kbp =  0.00\n",
      "  Drawing Nx plot...\n",
      "    saved to /group/weimergrp/smh/Dolphin_staph/workflow2/quast/BCW_7425.1/basic_stats/Nx_plot.pdf\n",
      "  Drawing cumulative plot...\n",
      "    saved to /group/weimergrp/smh/Dolphin_staph/workflow2/quast/BCW_7425.1/basic_stats/cumulative_plot.pdf\n",
      "  Drawing GC content plot...\n",
      "    saved to /group/weimergrp/smh/Dolphin_staph/workflow2/quast/BCW_7425.1/basic_stats/GC_content_plot.pdf\n",
      "Done.\n",
      "\n",
      "NOTICE: Genes are not predicted by default. Use --gene-finding option to enable it.\n",
      "\n",
      "2019-01-11 15:01:47\n",
      "Creating large visual summaries...\n",
      "This may take a while: press Ctrl-C to skip this step..\n",
      "  1 of 2: Creating Icarus viewers...\n",
      "  2 of 2: Creating PDF with all tables and plots...\n",
      "Done\n",
      "\n",
      "2019-01-11 15:01:48\n",
      "RESULTS:\n",
      "  Text versions of total report are saved to /group/weimergrp/smh/Dolphin_staph/workflow2/quast/BCW_7425.1/report.txt, report.tsv, and report.tex\n",
      "  Text versions of transposed total report are saved to /group/weimergrp/smh/Dolphin_staph/workflow2/quast/BCW_7425.1/transposed_report.txt, transposed_report.tsv, and transposed_report.tex\n",
      "  HTML version (interactive tables and plots) saved to /group/weimergrp/smh/Dolphin_staph/workflow2/quast/BCW_7425.1/report.html\n",
      "  PDF version (tables and plots) is saved to /group/weimergrp/smh/Dolphin_staph/workflow2/quast/BCW_7425.1/report.pdf\n",
      "  Icarus (contig browser) is saved to /group/weimergrp/smh/Dolphin_staph/workflow2/quast/BCW_7425.1/icarus.html\n",
      "  Log saved to /group/weimergrp/smh/Dolphin_staph/workflow2/quast/BCW_7425.1/quast.log\n",
      "\n",
      "Finished: 2019-01-11 15:01:48\n",
      "Elapsed time: 0:00:34.728615\n",
      "NOTICEs: 1; WARNINGs: 0; non-fatal ERRORs: 0\n",
      "\n",
      "Thank you for using QUAST!\n"
     ]
    }
   ],
   "source": [
    "quast -o workflow2/quast/BCW_7425.1 -t 24 workflow2/megahit/BCW_7425.1/final.contigs.fa"
   ]
  },
  {
   "cell_type": "code",
   "execution_count": 10,
   "metadata": {},
   "outputs": [
    {
     "name": "stdout",
     "output_type": "stream",
     "text": [
      "Assembly\tfinal.contigs\n",
      "# contigs (>= 0 bp)\t46\n",
      "# contigs (>= 1000 bp)\t43\n",
      "# contigs (>= 5000 bp)\t42\n",
      "# contigs (>= 10000 bp)\t41\n",
      "# contigs (>= 25000 bp)\t37\n",
      "# contigs (>= 50000 bp)\t28\n",
      "Total length (>= 0 bp)\t4830449\n",
      "Total length (>= 1000 bp)\t4829247\n",
      "Total length (>= 5000 bp)\t4824789\n",
      "Total length (>= 10000 bp)\t4818510\n",
      "Total length (>= 25000 bp)\t4757510\n",
      "Total length (>= 50000 bp)\t4414838\n",
      "# contigs\t43\n",
      "Largest contig\t406850\n",
      "Total length\t4829247\n",
      "GC (%)\t50.42\n",
      "N50\t162146\n",
      "N75\t106292\n",
      "L50\t9\n",
      "L75\t18\n",
      "# N's per 100 kbp\t0.00\n"
     ]
    }
   ],
   "source": [
    "cat workflow2/quast/BCW_7425.1/report.tsv"
   ]
  },
  {
   "cell_type": "markdown",
   "metadata": {},
   "source": [
    "> Assembly of __BCW_7425.1__ __*E. coli*__ shows **46 contigs**, total length of **4.83 MBp**, **50.42 % GC Content**, **N50 of 162 Kbp**"
   ]
  },
  {
   "cell_type": "markdown",
   "metadata": {},
   "source": [
    "#### BCW_7425.2 Assembly Stats\n",
    "\n",
    "> QUAST"
   ]
  },
  {
   "cell_type": "code",
   "execution_count": 11,
   "metadata": {},
   "outputs": [
    {
     "name": "stdout",
     "output_type": "stream",
     "text": [
      "/share/apps/bio/bio/opt/quast-4.1/quast.py -o workflow2/quast/BCW_7425.2 -t 24 workflow2/megahit/BCW_7425.2/final.contigs.fa\n",
      "\n",
      "Version: 4.1, build 26.05.2016 14:25\n",
      "\n",
      "System information:\n",
      "  OS: Linux-4.15.0-39-generic-x86_64-with-debian-buster-sid (linux_64)\n",
      "  Python version: 2.7.15\n",
      "  CPUs number: 24\n",
      "\n",
      "Started: 2019-01-11 15:04:18\n",
      "\n",
      "Logging to /group/weimergrp/smh/Dolphin_staph/workflow2/quast/BCW_7425.2/quast.log\n",
      "\n",
      "Main parameters: \n",
      "  Threads: 24, minimum contig length: 500, ambiguity: one, threshold for extensive misassembly size: 1000\n",
      "\n",
      "Contigs:\n",
      "  workflow2/megahit/BCW_7425.2/final.contigs.fa ==> final.contigs\n",
      "\n",
      "2019-01-11 15:04:19\n",
      "Running Basic statistics processor...\n",
      "  Contig files: \n",
      "    final.contigs\n",
      "  Calculating N50 and L50...\n",
      "    final.contigs, N50 = 143972, L50 = 7, Total length = 2828541, GC % = 32.61, # N's per 100 kbp =  0.00\n",
      "  Drawing Nx plot...\n",
      "    saved to /group/weimergrp/smh/Dolphin_staph/workflow2/quast/BCW_7425.2/basic_stats/Nx_plot.pdf\n",
      "  Drawing cumulative plot...\n",
      "    saved to /group/weimergrp/smh/Dolphin_staph/workflow2/quast/BCW_7425.2/basic_stats/cumulative_plot.pdf\n",
      "  Drawing GC content plot...\n",
      "    saved to /group/weimergrp/smh/Dolphin_staph/workflow2/quast/BCW_7425.2/basic_stats/GC_content_plot.pdf\n",
      "Done.\n",
      "\n",
      "NOTICE: Genes are not predicted by default. Use --gene-finding option to enable it.\n",
      "\n",
      "2019-01-11 15:04:50\n",
      "Creating large visual summaries...\n",
      "This may take a while: press Ctrl-C to skip this step..\n",
      "  1 of 2: Creating Icarus viewers...\n",
      "  2 of 2: Creating PDF with all tables and plots...\n",
      "Done\n",
      "\n",
      "2019-01-11 15:04:50\n",
      "RESULTS:\n",
      "  Text versions of total report are saved to /group/weimergrp/smh/Dolphin_staph/workflow2/quast/BCW_7425.2/report.txt, report.tsv, and report.tex\n",
      "  Text versions of transposed total report are saved to /group/weimergrp/smh/Dolphin_staph/workflow2/quast/BCW_7425.2/transposed_report.txt, transposed_report.tsv, and transposed_report.tex\n",
      "  HTML version (interactive tables and plots) saved to /group/weimergrp/smh/Dolphin_staph/workflow2/quast/BCW_7425.2/report.html\n",
      "  PDF version (tables and plots) is saved to /group/weimergrp/smh/Dolphin_staph/workflow2/quast/BCW_7425.2/report.pdf\n",
      "  Icarus (contig browser) is saved to /group/weimergrp/smh/Dolphin_staph/workflow2/quast/BCW_7425.2/icarus.html\n",
      "  Log saved to /group/weimergrp/smh/Dolphin_staph/workflow2/quast/BCW_7425.2/quast.log\n",
      "\n",
      "Finished: 2019-01-11 15:04:50\n",
      "Elapsed time: 0:00:32.492252\n",
      "NOTICEs: 1; WARNINGs: 0; non-fatal ERRORs: 0\n",
      "\n",
      "Thank you for using QUAST!\n"
     ]
    }
   ],
   "source": [
    "quast -o workflow2/quast/BCW_7425.2 -t 24 workflow2/megahit/BCW_7425.2/final.contigs.fa"
   ]
  },
  {
   "cell_type": "code",
   "execution_count": 12,
   "metadata": {},
   "outputs": [
    {
     "name": "stdout",
     "output_type": "stream",
     "text": [
      "Assembly\tfinal.contigs\n",
      "# contigs (>= 0 bp)\t42\n",
      "# contigs (>= 1000 bp)\t35\n",
      "# contigs (>= 5000 bp)\t33\n",
      "# contigs (>= 10000 bp)\t32\n",
      "# contigs (>= 25000 bp)\t25\n",
      "# contigs (>= 50000 bp)\t20\n",
      "Total length (>= 0 bp)\t2830691\n",
      "Total length (>= 1000 bp)\t2828039\n",
      "Total length (>= 5000 bp)\t2821762\n",
      "Total length (>= 10000 bp)\t2816197\n",
      "Total length (>= 25000 bp)\t2690262\n",
      "Total length (>= 50000 bp)\t2499182\n",
      "# contigs\t36\n",
      "Largest contig\t356733\n",
      "Total length\t2828541\n",
      "GC (%)\t32.61\n",
      "N50\t143972\n",
      "N75\t73507\n",
      "L50\t7\n",
      "L75\t14\n",
      "# N's per 100 kbp\t0.00\n"
     ]
    }
   ],
   "source": [
    "cat workflow2/quast/BCW_7425.2/report.tsv"
   ]
  },
  {
   "cell_type": "markdown",
   "metadata": {},
   "source": [
    "> Assembly of __BCW_7425.2__ __*Staphylococcus*__ shows **36 contigs**, total length of **2.83 MBp**, **32.61 % GC Content**, **N50 of 144 Kbp**"
   ]
  }
 ],
 "metadata": {
  "kernelspec": {
   "display_name": "Bash",
   "language": "bash",
   "name": "bash"
  },
  "language_info": {
   "codemirror_mode": "shell",
   "file_extension": ".sh",
   "mimetype": "text/x-sh",
   "name": "bash"
  }
 },
 "nbformat": 4,
 "nbformat_minor": 2
}
